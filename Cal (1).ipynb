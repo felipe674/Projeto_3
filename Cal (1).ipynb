{
  "nbformat": 4,
  "nbformat_minor": 0,
  "metadata": {
    "colab": {
      "provenance": []
    },
    "kernelspec": {
      "name": "python3",
      "display_name": "Python 3"
    },
    "language_info": {
      "name": "python"
    }
  },
  "cells": [
    {
      "cell_type": "code",
      "source": [
        "# Calculadora soma/subtração/divisão/multiplicação\n",
        "\n",
        "num1 = float(input('digite um valor' ))\n",
        "num2 = float(input('digite um valor' ))\n",
        "\n",
        "print('Qual operação deseja utilizar')\n",
        "print('\\t 1 - Soma')\n",
        "print('\\t 2 - Subtração')\n",
        "print('\\t 3 - Divisão')\n",
        "print('\\t 4 - Multiplicação')\n",
        "\n",
        "operação = input('Qual operação deseja utilizar')\n",
        "\n",
        "if (operação == '1'):\n",
        "  print(num1, \"+\", num2, '=', num1 + num2)\n",
        "elif (operação == '2'):\n",
        "  print(num1, \"-\", num2, '=', num1 - num2)\n",
        "elif (operação == '3'):\n",
        "  print(num1, \"/\", num2, '=', num1 / num2)\n",
        "elif (operação == '4'):\n",
        "  print(num1, \"*\", num2, '=', num1 * num2)\n",
        "else:\n",
        "  print('opção desconhecida, tente novamente')\n"
      ],
      "metadata": {
        "colab": {
          "base_uri": "https://localhost:8080/"
        },
        "id": "IVrufI2tpKem",
        "outputId": "fe7ba7ae-dd0a-4223-820f-4eb0538250ad"
      },
      "execution_count": null,
      "outputs": [
        {
          "output_type": "stream",
          "name": "stdout",
          "text": [
            "digite um valor 32\n",
            "digite um valor 2\n",
            "Qual operação deseja utilizar\n",
            "\t 1 - Soma\n",
            "\t 2 - Subtração\n",
            "\t 3 - Divisão\n",
            "\t 4 - Multiplicação\n",
            "Qual operação deseja utilizar4\n",
            "32.0 * 2.0 = 64.0\n"
          ]
        }
      ]
    }
  ]
}